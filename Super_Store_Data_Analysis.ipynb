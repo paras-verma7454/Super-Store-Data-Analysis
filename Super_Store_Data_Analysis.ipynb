{
  "nbformat": 4,
  "nbformat_minor": 0,
  "metadata": {
    "colab": {
      "provenance": [],
      "authorship_tag": "ABX9TyOuPaeL65fZzj7qLuuPa3/y",
      "include_colab_link": true
    },
    "kernelspec": {
      "name": "python3",
      "display_name": "Python 3"
    },
    "language_info": {
      "name": "python"
    }
  },
  "cells": [
    {
      "cell_type": "markdown",
      "metadata": {
        "id": "view-in-github",
        "colab_type": "text"
      },
      "source": [
        "<a href=\"https://colab.research.google.com/github/paras-verma7454/Super-Store-Data-Analysis/blob/main/Super_Store_Data_Analysis.ipynb\" target=\"_parent\"><img src=\"https://colab.research.google.com/assets/colab-badge.svg\" alt=\"Open In Colab\"/></a>"
      ]
    },
    {
      "cell_type": "markdown",
      "source": [
        "Import libraries"
      ],
      "metadata": {
        "id": "WQtyi0lPdmaD"
      }
    },
    {
      "cell_type": "code",
      "execution_count": null,
      "metadata": {
        "id": "upFtcV68xxBC"
      },
      "outputs": [],
      "source": [
        "import numpy as np\n",
        "import pandas as pd\n",
        "import matplotlib.pyplot as plt\n",
        "import seaborn as sns"
      ]
    },
    {
      "cell_type": "markdown",
      "source": [
        "Read Data"
      ],
      "metadata": {
        "id": "Yhcw08Kwgwqq"
      }
    },
    {
      "cell_type": "code",
      "source": [
        "df=pd.read_csv(\"Sample - Superstore.csv\", encoding='latin1')"
      ],
      "metadata": {
        "id": "idVryCV1fS4j"
      },
      "execution_count": null,
      "outputs": []
    },
    {
      "cell_type": "code",
      "source": [
        "df.head()"
      ],
      "metadata": {
        "id": "y3zYnPgqgjlN"
      },
      "execution_count": null,
      "outputs": []
    },
    {
      "cell_type": "code",
      "source": [
        "df.info()"
      ],
      "metadata": {
        "id": "MaIm9fv8g4gs"
      },
      "execution_count": null,
      "outputs": []
    },
    {
      "cell_type": "code",
      "source": [
        "df.duplicated().sum()"
      ],
      "metadata": {
        "id": "b5GsXJzchxVz"
      },
      "execution_count": null,
      "outputs": []
    },
    {
      "cell_type": "markdown",
      "source": [
        "Types of customers"
      ],
      "metadata": {
        "id": "B6ffDZ_gh9DH"
      }
    },
    {
      "cell_type": "code",
      "source": [
        "types_of_customers=df['Segment'].unique()\n",
        "print(types_of_customers)"
      ],
      "metadata": {
        "id": "7JIZN-1qh1Rq"
      },
      "execution_count": null,
      "outputs": []
    },
    {
      "cell_type": "code",
      "source": [
        "number_of_customers=df['Segment'].value_counts().reset_index()\n",
        "number_of_customers=number_of_customers.rename(columns={ 'Segment':'Types of Customers'})\n",
        "print(number_of_customers)"
      ],
      "metadata": {
        "id": "dAaOCtifiT20"
      },
      "execution_count": null,
      "outputs": []
    },
    {
      "cell_type": "code",
      "source": [
        "plt.pie(number_of_customers['count'],labels=number_of_customers['Types of Customers'],autopct='%1.1f%%')"
      ],
      "metadata": {
        "id": "JzQOaJeljqSG"
      },
      "execution_count": null,
      "outputs": []
    },
    {
      "cell_type": "code",
      "source": [
        "sales_per_segment=df.groupby('Segment')['Sales'].sum().reset_index()\n",
        "sales_per_segment=sales_per_segment.rename(columns={'Segment':'Type of customer','Sales':'Total Sales'})\n",
        "print(sales_per_segment)\n",
        "plt.bar(sales_per_segment['Type of customer'],sales_per_segment['Total Sales'])"
      ],
      "metadata": {
        "id": "fBCHGl5MkNTO"
      },
      "execution_count": null,
      "outputs": []
    },
    {
      "cell_type": "code",
      "source": [
        "plt.pie(sales_per_segment['Total Sales'],labels=sales_per_segment['Type of customer'],autopct='%1.1f%%')"
      ],
      "metadata": {
        "id": "yqmSf-V2lRC6"
      },
      "execution_count": null,
      "outputs": []
    },
    {
      "cell_type": "code",
      "source": [
        "df.head(3)"
      ],
      "metadata": {
        "id": "fMRPT3P2lksJ"
      },
      "execution_count": null,
      "outputs": []
    },
    {
      "cell_type": "code",
      "source": [
        "customers_order_frequency=df.groupby('Segment')['Order ID'].count().reset_index()\n",
        "customers_order_frequency=customers_order_frequency.rename(columns={'Order ID' : 'Total Orders'})\n",
        "repeat_customers = customers_order_frequency[customers_order_frequency['Total Orders']>=1]\n",
        "repeat_customers_sorted = repeat_customers.sort_values(by='Total Orders', ascending = False)\n",
        "print(repeat_customers_sorted.head(12).reset_index(drop=True))"
      ],
      "metadata": {
        "id": "hLSUVA-qlplB"
      },
      "execution_count": null,
      "outputs": []
    },
    {
      "cell_type": "code",
      "source": [
        "customer_sales = df.groupby(['Customer ID', 'Customer Name', 'Segment'])['Sales'].sum().reset_index()\n",
        "top_spenders = customer_sales.sort_values(by='Sales', ascending=False).head(10)\n",
        "print(\"\\n\",top_spenders)"
      ],
      "metadata": {
        "id": "arMpDiRCnK7u"
      },
      "execution_count": null,
      "outputs": []
    },
    {
      "cell_type": "markdown",
      "source": [
        "Type of Ship mode"
      ],
      "metadata": {
        "id": "DEP8vpDmsAWq"
      }
    },
    {
      "cell_type": "code",
      "source": [
        "types_of_customers = df['Ship Mode'].unique()\n",
        "print(types_of_customers)"
      ],
      "metadata": {
        "id": "QFAnsFNapmON"
      },
      "execution_count": null,
      "outputs": []
    },
    {
      "cell_type": "code",
      "source": [
        "shipping_model = df['Ship Mode'].value_counts().reset_index()\n",
        "shipping_model = shipping_model.rename(columns={'index':'Use Frequency', 'Ship Mode':'Mode Of Shipment', 'count' : 'Use Frequency'})\n",
        "print(shipping_model)"
      ],
      "metadata": {
        "id": "ht7w1aBdpphn"
      },
      "execution_count": null,
      "outputs": []
    },
    {
      "cell_type": "code",
      "source": [
        "plt.pie(shipping_model['Use Frequency'], labels=shipping_model['Mode Of Shipment'], autopct='%1.1f%%')"
      ],
      "metadata": {
        "id": "9a2Y1OVWpuKP"
      },
      "execution_count": null,
      "outputs": []
    },
    {
      "cell_type": "code",
      "source": [
        "state = df['State'].value_counts().reset_index()\n",
        "state = state.rename(columns={'index':'State', 'State':'Number Of Customers'})\n",
        "print(state.head(20))"
      ],
      "metadata": {
        "id": "f9oxNP9TpxoA"
      },
      "execution_count": null,
      "outputs": []
    },
    {
      "cell_type": "code",
      "source": [
        "city = df['City'].value_counts().reset_index()\n",
        "print(city.head(25))"
      ],
      "metadata": {
        "id": "44FfmEWyp0aB"
      },
      "execution_count": null,
      "outputs": []
    },
    {
      "cell_type": "code",
      "source": [
        "state_sales = df.groupby(['State'])['Sales'].sum().reset_index()\n",
        "top_sales = state_sales.sort_values(by='Sales', ascending=False)\n",
        "print(top_sales.head(10).reset_index(drop=True))"
      ],
      "metadata": {
        "id": "b-6YkJkIp3q4"
      },
      "execution_count": null,
      "outputs": []
    },
    {
      "cell_type": "code",
      "source": [
        "city_sales = df.groupby(['City'])['Sales'].sum().reset_index()\n",
        "top_city_sales = city_sales.sort_values (by='Sales', ascending=False)\n",
        "print(top_city_sales.head(10).reset_index(drop=True))"
      ],
      "metadata": {
        "id": "UDHu7akQp91Y"
      },
      "execution_count": null,
      "outputs": []
    },
    {
      "cell_type": "code",
      "source": [
        "state_city_sales = df.groupby(['State', 'City'])['Sales'].sum().reset_index()\n",
        "print(state_city_sales.head(20))"
      ],
      "metadata": {
        "id": "icwG_V6Zp_2K"
      },
      "execution_count": null,
      "outputs": []
    },
    {
      "cell_type": "code",
      "source": [
        "products = df['Category'].unique()\n",
        "print(products)"
      ],
      "metadata": {
        "id": "UZnBxc7VqDmZ"
      },
      "execution_count": null,
      "outputs": []
    },
    {
      "cell_type": "code",
      "source": [
        "product_subcategory = df['Sub-Category'].unique()\n",
        "print(product_subcategory)"
      ],
      "metadata": {
        "id": "wCdD7OHKqF73"
      },
      "execution_count": null,
      "outputs": []
    },
    {
      "cell_type": "code",
      "source": [
        "subcategory_count = df.groupby('Category')['Sub-Category'].nunique().reset_index()\n",
        "subcategory_count = subcategory_count.sort_values(by='Sub-Category', ascending = False)\n",
        "print(subcategory_count)"
      ],
      "metadata": {
        "id": "vgYGmgpOqITs"
      },
      "execution_count": null,
      "outputs": []
    },
    {
      "cell_type": "code",
      "source": [
        "subcategory_count_sales = df.groupby(['Category', 'Sub-Category'])['Sales'].sum().reset_index()\n",
        "subcategory_count_sales = subcategory_count_sales.sort_values(by='Sales', ascending = False)\n",
        "print(subcategory_count_sales)"
      ],
      "metadata": {
        "id": "zEhCzceYqJ8o"
      },
      "execution_count": null,
      "outputs": []
    },
    {
      "cell_type": "code",
      "source": [
        "product_category = df.groupby(['Category'])['Sales'].sum().reset_index()\n",
        "top_product_category = product_category.sort_values(by='Sales', ascending = False)\n",
        "print(top_product_category.reset_index(drop=True))"
      ],
      "metadata": {
        "id": "1UnnEBNbqP8B"
      },
      "execution_count": null,
      "outputs": []
    },
    {
      "cell_type": "code",
      "source": [
        "plt.pie(top_product_category['Sales'], labels=top_product_category['Category'], autopct='%1.1f%%')"
      ],
      "metadata": {
        "id": "bFMhL-QnqTcj"
      },
      "execution_count": null,
      "outputs": []
    },
    {
      "cell_type": "code",
      "source": [
        "subcategory_count_sales = subcategory_count_sales.sort_values(by='Sales', ascending = True)\n",
        "plt.barh(subcategory_count_sales['Sub-Category'], subcategory_count_sales['Sales'])"
      ],
      "metadata": {
        "id": "nKhSODVpqVzX"
      },
      "execution_count": null,
      "outputs": []
    },
    {
      "cell_type": "code",
      "source": [
        "df['Order Date'] = pd.to_datetime(df['Order Date'])\n",
        "yearly_sales = df.groupby(df['Order Date'].dt.year)['Sales'].sum()\n",
        "yearly_sales = yearly_sales.reset_index()\n",
        "yearly_sales = yearly_sales.rename(columns={'Order Date' : 'Year', 'Sales': 'Total Sales'})\n",
        "\n",
        "print (yearly_sales)"
      ],
      "metadata": {
        "id": "m3WTrWRaqZ0H"
      },
      "execution_count": null,
      "outputs": []
    },
    {
      "cell_type": "code",
      "source": [
        "plt.bar(yearly_sales['Year'], yearly_sales['Total Sales'])"
      ],
      "metadata": {
        "id": "NwkXPGmwqefV"
      },
      "execution_count": null,
      "outputs": []
    },
    {
      "cell_type": "code",
      "source": [
        "plt.plot(yearly_sales['Year'], yearly_sales['Total Sales'], marker='o', linestyle='-')"
      ],
      "metadata": {
        "id": "nMByHMFoqn_b"
      },
      "execution_count": null,
      "outputs": []
    },
    {
      "cell_type": "code",
      "source": [
        "df['Order Date'] = pd.to_datetime(df['Order Date'])\n",
        "year_sales = df[df['Order Date'].dt.year == 2016]\n",
        "quarterly_sales = year_sales.resample('Q', on='Order Date')['Sales'].sum()\n",
        "quarterly_sales = quarterly_sales.reset_index()\n",
        "quarterly_sales = quarterly_sales.rename(columns = {'Order Date': 'Quarter', 'Sales' : 'Total Sales'})\n",
        "print(quarterly_sales)"
      ],
      "metadata": {
        "id": "S0tMGlHkqr37"
      },
      "execution_count": null,
      "outputs": []
    },
    {
      "cell_type": "code",
      "source": [
        "plt.plot(quarterly_sales['Quarter'], quarterly_sales['Total Sales'], marker = 'o', linestyle = '--')\n",
        "\n",
        "plt.tight_layout()\n",
        "plt.xticks(rotation=75)\n",
        "plt.show()"
      ],
      "metadata": {
        "id": "tjXGtL1lquI2"
      },
      "execution_count": null,
      "outputs": []
    },
    {
      "cell_type": "code",
      "source": [
        "df['Order Date'] = pd.to_datetime(df['Order Date'], dayfirst = True)\n",
        "yearly_sales = df[df['Order Date'].dt.year == 2016]\n",
        "monthly_sales = yearly_sales.resample('M', on = 'Order Date')['Sales'].sum()\n",
        "monthly_sales = monthly_sales.reset_index()\n",
        "monthly_sales = monthly_sales.rename(columns={'Order Date':'Month', 'Sales' : 'Total Monthly Sales'})\n",
        "\n",
        "print (monthly_sales)"
      ],
      "metadata": {
        "id": "UrLJo1ErrBdm"
      },
      "execution_count": null,
      "outputs": []
    },
    {
      "cell_type": "code",
      "source": [
        "plt.plot(monthly_sales['Month'], monthly_sales['Total Monthly Sales'], marker = 'o', linestyle = '--')"
      ],
      "metadata": {
        "id": "riRZTe7PrGDJ"
      },
      "execution_count": null,
      "outputs": []
    }
  ]
}